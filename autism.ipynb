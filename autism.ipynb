{
  "nbformat": 4,
  "nbformat_minor": 0,
  "metadata": {
    "colab": {
      "provenance": [],
      "collapsed_sections": []
    },
    "kernelspec": {
      "name": "python3",
      "display_name": "Python 3"
    },
    "language_info": {
      "name": "python"
    },
    "accelerator": "GPU"
  },
  "cells": [
    {
      "cell_type": "code",
      "source": [
        "from google.colab import drive\n",
        "drive.mount(\"/content/drive\")"
      ],
      "metadata": {
        "id": "3beU9ijEJzbd",
        "colab": {
          "base_uri": "https://localhost:8080/"
        },
        "outputId": "ef52c59a-fc07-4f0f-fa30-343b2f567f9b"
      },
      "execution_count": null,
      "outputs": [
        {
          "output_type": "stream",
          "name": "stdout",
          "text": [
            "Mounted at /content/drive\n"
          ]
        }
      ]
    },
    {
      "cell_type": "code",
      "source": [
        "!pip install mediapipe"
      ],
      "metadata": {
        "id": "iHcPEWYrJM6-",
        "colab": {
          "base_uri": "https://localhost:8080/"
        },
        "outputId": "3414c644-0b8f-4a12-f6fb-790092c4f981"
      },
      "execution_count": null,
      "outputs": [
        {
          "output_type": "stream",
          "name": "stdout",
          "text": [
            "Looking in indexes: https://pypi.org/simple, https://us-python.pkg.dev/colab-wheels/public/simple/\n",
            "Collecting mediapipe\n",
            "  Downloading mediapipe-0.8.11-cp37-cp37m-manylinux_2_17_x86_64.manylinux2014_x86_64.whl (31.5 MB)\n",
            "\u001b[K     |████████████████████████████████| 31.5 MB 1.6 MB/s \n",
            "\u001b[?25hRequirement already satisfied: matplotlib in /usr/local/lib/python3.7/dist-packages (from mediapipe) (3.2.2)\n",
            "Requirement already satisfied: protobuf<4,>=3.11 in /usr/local/lib/python3.7/dist-packages (from mediapipe) (3.17.3)\n",
            "Requirement already satisfied: numpy in /usr/local/lib/python3.7/dist-packages (from mediapipe) (1.21.6)\n",
            "Requirement already satisfied: opencv-contrib-python in /usr/local/lib/python3.7/dist-packages (from mediapipe) (4.6.0.66)\n",
            "Requirement already satisfied: attrs>=19.1.0 in /usr/local/lib/python3.7/dist-packages (from mediapipe) (22.1.0)\n",
            "Requirement already satisfied: absl-py in /usr/local/lib/python3.7/dist-packages (from mediapipe) (1.3.0)\n",
            "Requirement already satisfied: six>=1.9 in /usr/local/lib/python3.7/dist-packages (from protobuf<4,>=3.11->mediapipe) (1.15.0)\n",
            "Requirement already satisfied: cycler>=0.10 in /usr/local/lib/python3.7/dist-packages (from matplotlib->mediapipe) (0.11.0)\n",
            "Requirement already satisfied: pyparsing!=2.0.4,!=2.1.2,!=2.1.6,>=2.0.1 in /usr/local/lib/python3.7/dist-packages (from matplotlib->mediapipe) (3.0.9)\n",
            "Requirement already satisfied: kiwisolver>=1.0.1 in /usr/local/lib/python3.7/dist-packages (from matplotlib->mediapipe) (1.4.4)\n",
            "Requirement already satisfied: python-dateutil>=2.1 in /usr/local/lib/python3.7/dist-packages (from matplotlib->mediapipe) (2.8.2)\n",
            "Requirement already satisfied: typing-extensions in /usr/local/lib/python3.7/dist-packages (from kiwisolver>=1.0.1->matplotlib->mediapipe) (4.1.1)\n",
            "Installing collected packages: mediapipe\n",
            "Successfully installed mediapipe-0.8.11\n"
          ]
        }
      ]
    },
    {
      "cell_type": "markdown",
      "source": [
        "feature extraction"
      ],
      "metadata": {
        "id": "AL_fZvqEX19S"
      }
    },
    {
      "cell_type": "code",
      "execution_count": null,
      "metadata": {
        "id": "Xy8cwHejImde"
      },
      "outputs": [],
      "source": [
        "import cv2\n",
        "import mediapipe as mp\n",
        "import time\n",
        "import math\n",
        "import numpy as np\n",
        "\n",
        "class poseDetector():\n",
        "    def __init__(self, mode=False, upBody=False, complexity=1, smooth=True,\n",
        "                 detectionCon=0.5, trackCon=0.5):\n",
        "        self.mode = mode\n",
        "        self.upBody = upBody\n",
        "        self.complexity = complexity\n",
        "        self.smooth = smooth\n",
        "        self.detectionCon = detectionCon\n",
        "        self.trackCon = trackCon\n",
        "        self.mpDraw = mp.solutions.drawing_utils\n",
        "        self.mpPose = mp.solutions.pose\n",
        "        self.pose = self.mpPose.Pose(self.mode, self.upBody, self.complexity,self.smooth,\n",
        "                                     self.detectionCon, self.trackCon)\n",
        "    def findPose(self, img, draw=True):\n",
        "        imgRGB = cv2.cvtColor(img, cv2.COLOR_BGR2RGB)\n",
        "        self.results = self.pose.process(imgRGB)\n",
        "        if self.results.pose_landmarks:\n",
        "            if draw:\n",
        "                self.mpDraw.draw_landmarks(img, self.results.pose_landmarks,\n",
        "                                           self.mpPose.POSE_CONNECTIONS)\n",
        "        return img\n",
        "    def findPosition(self, img, draw=True):\n",
        "        self.lmList = []\n",
        "        if self.results.pose_landmarks:\n",
        "            for id, lm in enumerate(self.results.pose_landmarks.landmark):\n",
        "                h, w, c = img.shape\n",
        "                # print(id, lm)\n",
        "                cx, cy = int(lm.x * w), int(lm.y * h)\n",
        "                self.lmList.append([cx, cy])\n",
        "                if draw:\n",
        "                    cv2.circle(img, (cx, cy), 1, (255, 0, 0), cv2.FILLED)\n",
        "        return self.lmList"
      ]
    },
    {
      "cell_type": "code",
      "source": [
        "import cv2\n",
        "import time\n",
        "import imutils\n",
        "from imutils import paths\n",
        "from google.colab.patches import cv2_imshow\n",
        "\n",
        "filepath = list(paths.list_files(\"/content/drive/MyDrive/asd_loyolla/clipped_videos/armflapping\"))\n",
        "\n",
        "for file in filepath:\n",
        "\n",
        "    cap = cv2.VideoCapture(file)\n",
        "\n",
        "    detector = poseDetector(complexity=2,detectionCon=0.5, trackCon=0.5)\n",
        "\n",
        "    filename = file.split(\"_\")[1]\n",
        "    # print(filename)\n",
        "    f = open('armflapping.txt', 'a+')\n",
        "    while True:\n",
        "        success, img = cap.read()\n",
        "\n",
        "        if success == False:\n",
        "            break\n",
        "        \n",
        "        img = cv2.resize(img, (480, 360))\n",
        "        \n",
        "        img = detector.findPose(img,draw=True)\n",
        "        lmList = detector.findPosition(img, draw=True)\n",
        "\n",
        "        for item in lmList:\n",
        "            item = str(item).replace('[','').replace('] ',',')\n",
        "            f.write(\"%s \" % item)\n",
        "        \n",
        "        f.write(\"\\n\")\n",
        "\n",
        "        # cv2_imshow(img)\n"
      ],
      "metadata": {
        "id": "05JZeUdhtuJg",
        "colab": {
          "base_uri": "https://localhost:8080/",
          "height": 380
        },
        "outputId": "0c16debc-b672-4de6-801f-1c7c2eba3eea"
      },
      "execution_count": null,
      "outputs": [
        {
          "output_type": "error",
          "ename": "KeyboardInterrupt",
          "evalue": "ignored",
          "traceback": [
            "\u001b[0;31m---------------------------------------------------------------------------\u001b[0m",
            "\u001b[0;31mKeyboardInterrupt\u001b[0m                         Traceback (most recent call last)",
            "\u001b[0;32m<ipython-input-8-4e35a3276fe1>\u001b[0m in \u001b[0;36m<module>\u001b[0;34m\u001b[0m\n\u001b[1;32m     24\u001b[0m         \u001b[0mimg\u001b[0m \u001b[0;34m=\u001b[0m \u001b[0mcv2\u001b[0m\u001b[0;34m.\u001b[0m\u001b[0mresize\u001b[0m\u001b[0;34m(\u001b[0m\u001b[0mimg\u001b[0m\u001b[0;34m,\u001b[0m \u001b[0;34m(\u001b[0m\u001b[0;36m480\u001b[0m\u001b[0;34m,\u001b[0m \u001b[0;36m360\u001b[0m\u001b[0;34m)\u001b[0m\u001b[0;34m)\u001b[0m\u001b[0;34m\u001b[0m\u001b[0;34m\u001b[0m\u001b[0m\n\u001b[1;32m     25\u001b[0m \u001b[0;34m\u001b[0m\u001b[0m\n\u001b[0;32m---> 26\u001b[0;31m         \u001b[0mimg\u001b[0m \u001b[0;34m=\u001b[0m \u001b[0mdetector\u001b[0m\u001b[0;34m.\u001b[0m\u001b[0mfindPose\u001b[0m\u001b[0;34m(\u001b[0m\u001b[0mimg\u001b[0m\u001b[0;34m,\u001b[0m\u001b[0mdraw\u001b[0m\u001b[0;34m=\u001b[0m\u001b[0;32mTrue\u001b[0m\u001b[0;34m)\u001b[0m\u001b[0;34m\u001b[0m\u001b[0;34m\u001b[0m\u001b[0m\n\u001b[0m\u001b[1;32m     27\u001b[0m         \u001b[0mlmList\u001b[0m \u001b[0;34m=\u001b[0m \u001b[0mdetector\u001b[0m\u001b[0;34m.\u001b[0m\u001b[0mfindPosition\u001b[0m\u001b[0;34m(\u001b[0m\u001b[0mimg\u001b[0m\u001b[0;34m,\u001b[0m \u001b[0mdraw\u001b[0m\u001b[0;34m=\u001b[0m\u001b[0;32mTrue\u001b[0m\u001b[0;34m)\u001b[0m\u001b[0;34m\u001b[0m\u001b[0;34m\u001b[0m\u001b[0m\n\u001b[1;32m     28\u001b[0m \u001b[0;34m\u001b[0m\u001b[0m\n",
            "\u001b[0;32m<ipython-input-4-59ed9f75f81b>\u001b[0m in \u001b[0;36mfindPose\u001b[0;34m(self, img, draw)\u001b[0m\n\u001b[1;32m     20\u001b[0m     \u001b[0;32mdef\u001b[0m \u001b[0mfindPose\u001b[0m\u001b[0;34m(\u001b[0m\u001b[0mself\u001b[0m\u001b[0;34m,\u001b[0m \u001b[0mimg\u001b[0m\u001b[0;34m,\u001b[0m \u001b[0mdraw\u001b[0m\u001b[0;34m=\u001b[0m\u001b[0;32mTrue\u001b[0m\u001b[0;34m)\u001b[0m\u001b[0;34m:\u001b[0m\u001b[0;34m\u001b[0m\u001b[0;34m\u001b[0m\u001b[0m\n\u001b[1;32m     21\u001b[0m         \u001b[0mimgRGB\u001b[0m \u001b[0;34m=\u001b[0m \u001b[0mcv2\u001b[0m\u001b[0;34m.\u001b[0m\u001b[0mcvtColor\u001b[0m\u001b[0;34m(\u001b[0m\u001b[0mimg\u001b[0m\u001b[0;34m,\u001b[0m \u001b[0mcv2\u001b[0m\u001b[0;34m.\u001b[0m\u001b[0mCOLOR_BGR2RGB\u001b[0m\u001b[0;34m)\u001b[0m\u001b[0;34m\u001b[0m\u001b[0;34m\u001b[0m\u001b[0m\n\u001b[0;32m---> 22\u001b[0;31m         \u001b[0mself\u001b[0m\u001b[0;34m.\u001b[0m\u001b[0mresults\u001b[0m \u001b[0;34m=\u001b[0m \u001b[0mself\u001b[0m\u001b[0;34m.\u001b[0m\u001b[0mpose\u001b[0m\u001b[0;34m.\u001b[0m\u001b[0mprocess\u001b[0m\u001b[0;34m(\u001b[0m\u001b[0mimgRGB\u001b[0m\u001b[0;34m)\u001b[0m\u001b[0;34m\u001b[0m\u001b[0;34m\u001b[0m\u001b[0m\n\u001b[0m\u001b[1;32m     23\u001b[0m         \u001b[0;32mif\u001b[0m \u001b[0mself\u001b[0m\u001b[0;34m.\u001b[0m\u001b[0mresults\u001b[0m\u001b[0;34m.\u001b[0m\u001b[0mpose_landmarks\u001b[0m\u001b[0;34m:\u001b[0m\u001b[0;34m\u001b[0m\u001b[0;34m\u001b[0m\u001b[0m\n\u001b[1;32m     24\u001b[0m             \u001b[0;32mif\u001b[0m \u001b[0mdraw\u001b[0m\u001b[0;34m:\u001b[0m\u001b[0;34m\u001b[0m\u001b[0;34m\u001b[0m\u001b[0m\n",
            "\u001b[0;32m/usr/local/lib/python3.7/dist-packages/mediapipe/python/solutions/pose.py\u001b[0m in \u001b[0;36mprocess\u001b[0;34m(self, image)\u001b[0m\n\u001b[1;32m    183\u001b[0m     \"\"\"\n\u001b[1;32m    184\u001b[0m \u001b[0;34m\u001b[0m\u001b[0m\n\u001b[0;32m--> 185\u001b[0;31m     \u001b[0mresults\u001b[0m \u001b[0;34m=\u001b[0m \u001b[0msuper\u001b[0m\u001b[0;34m(\u001b[0m\u001b[0;34m)\u001b[0m\u001b[0;34m.\u001b[0m\u001b[0mprocess\u001b[0m\u001b[0;34m(\u001b[0m\u001b[0minput_data\u001b[0m\u001b[0;34m=\u001b[0m\u001b[0;34m{\u001b[0m\u001b[0;34m'image'\u001b[0m\u001b[0;34m:\u001b[0m \u001b[0mimage\u001b[0m\u001b[0;34m}\u001b[0m\u001b[0;34m)\u001b[0m\u001b[0;34m\u001b[0m\u001b[0;34m\u001b[0m\u001b[0m\n\u001b[0m\u001b[1;32m    186\u001b[0m     \u001b[0;32mif\u001b[0m \u001b[0mresults\u001b[0m\u001b[0;34m.\u001b[0m\u001b[0mpose_landmarks\u001b[0m\u001b[0;34m:\u001b[0m  \u001b[0;31m# pytype: disable=attribute-error\u001b[0m\u001b[0;34m\u001b[0m\u001b[0;34m\u001b[0m\u001b[0m\n\u001b[1;32m    187\u001b[0m       \u001b[0;32mfor\u001b[0m \u001b[0mlandmark\u001b[0m \u001b[0;32min\u001b[0m \u001b[0mresults\u001b[0m\u001b[0;34m.\u001b[0m\u001b[0mpose_landmarks\u001b[0m\u001b[0;34m.\u001b[0m\u001b[0mlandmark\u001b[0m\u001b[0;34m:\u001b[0m  \u001b[0;31m# pytype: disable=attribute-error\u001b[0m\u001b[0;34m\u001b[0m\u001b[0;34m\u001b[0m\u001b[0m\n",
            "\u001b[0;32m/usr/local/lib/python3.7/dist-packages/mediapipe/python/solution_base.py\u001b[0m in \u001b[0;36mprocess\u001b[0;34m(self, input_data)\u001b[0m\n\u001b[1;32m    364\u001b[0m                                      data).at(self._simulated_timestamp))\n\u001b[1;32m    365\u001b[0m \u001b[0;34m\u001b[0m\u001b[0m\n\u001b[0;32m--> 366\u001b[0;31m     \u001b[0mself\u001b[0m\u001b[0;34m.\u001b[0m\u001b[0m_graph\u001b[0m\u001b[0;34m.\u001b[0m\u001b[0mwait_until_idle\u001b[0m\u001b[0;34m(\u001b[0m\u001b[0;34m)\u001b[0m\u001b[0;34m\u001b[0m\u001b[0;34m\u001b[0m\u001b[0m\n\u001b[0m\u001b[1;32m    367\u001b[0m     \u001b[0;31m# Create a NamedTuple object where the field names are mapping to the graph\u001b[0m\u001b[0;34m\u001b[0m\u001b[0;34m\u001b[0m\u001b[0;34m\u001b[0m\u001b[0m\n\u001b[1;32m    368\u001b[0m     \u001b[0;31m# output stream names.\u001b[0m\u001b[0;34m\u001b[0m\u001b[0;34m\u001b[0m\u001b[0;34m\u001b[0m\u001b[0m\n",
            "\u001b[0;31mKeyboardInterrupt\u001b[0m: "
          ]
        }
      ]
    },
    {
      "cell_type": "code",
      "source": [
        "import cv2\n",
        "import time\n",
        "import imutils\n",
        "from imutils import paths\n",
        "from google.colab.patches import cv2_imshow\n",
        "\n",
        "filepath = list(paths.list_files(\"drive/MyDrive/clipped_videos/headbanging/\"))\n",
        "\n",
        "for file in filepath:\n",
        "\n",
        "    cap = cv2.VideoCapture(file)\n",
        "\n",
        "    detector = poseDetector(complexity=2,detectionCon=0.5, trackCon=0.5)\n",
        "\n",
        "    filename = file.split(\"_\")[1]\n",
        "    print(filename)\n",
        "    f = open('headbanging.txt', 'a+')\n",
        "    while True:\n",
        "        success, img = cap.read()\n",
        "\n",
        "        if success == False:\n",
        "            break\n",
        "        \n",
        "        img = cv2.resize(img, (480, 360))\n",
        "        \n",
        "        img = detector.findPose(img,draw=True)\n",
        "        lmList = detector.findPosition(img, draw=True)\n",
        "\n",
        "        for item in lmList:\n",
        "            item = str(item).replace('[','').replace('] ',',')\n",
        "            f.write(\"%s \" % item)\n",
        "        \n",
        "        f.write(\"\\n\")\n",
        "\n",
        "        # cv2_imshow(img)\n"
      ],
      "metadata": {
        "id": "_6E4MI9CttiS"
      },
      "execution_count": null,
      "outputs": []
    },
    {
      "cell_type": "code",
      "source": [
        "import cv2\n",
        "import time\n",
        "import imutils\n",
        "from imutils import paths\n",
        "from google.colab.patches import cv2_imshow\n",
        "\n",
        "filepath = list(paths.list_files(\"drive/MyDrive/clipped_videos/spinning/\"))\n",
        "\n",
        "for file in filepath:\n",
        "\n",
        "    cap = cv2.VideoCapture(file)\n",
        "\n",
        "    detector = poseDetector(complexity=2,detectionCon=0.5, trackCon=0.5)\n",
        "\n",
        "    filename = file.split(\"_\")[1]\n",
        "    print(filename)\n",
        "    f = open('spinning.txt', 'a+')\n",
        "    while True:\n",
        "        success, img = cap.read()\n",
        "\n",
        "        if success == False:\n",
        "            break\n",
        "        \n",
        "        img = cv2.resize(img, (480, 360))\n",
        "        \n",
        "        img = detector.findPose(img,draw=True)\n",
        "        lmList = detector.findPosition(img, draw=True)\n",
        "\n",
        "        for item in lmList:\n",
        "            item = str(item).replace('[','').replace('] ',',')\n",
        "            f.write(\"%s \" % item)\n",
        "        \n",
        "        f.write(\"\\n\")\n",
        "\n",
        "        cv2_imshow(img)\n"
      ],
      "metadata": {
        "id": "IkDJkqUVJVdM"
      },
      "execution_count": null,
      "outputs": []
    },
    {
      "cell_type": "code",
      "source": [
        "import pandas as pd\n",
        "import os\n",
        "\n",
        "for txtfile in os.listdir('/content'):\n",
        "\n",
        "    if txtfile.endswith('.txt'):\n",
        "        # print(txtfile)\n",
        "\n",
        "        # reading given csv file and creating dataframe\n",
        "        websites = pd.read_csv(txtfile, header = None,\n",
        "                               delimiter = ', | |\\n|] |]')\n",
        "        \n",
        "        txtfile = txtfile.split(\".\")[0]\n",
        "        websites.insert(66, \"label\", txtfile, True)\n",
        "        # websites[\"label\"] = \"%s\" % txtfile\n",
        "        # store dataframe into csv file\n",
        "        websites.to_csv('%s.csv' % txtfile, \n",
        "                        index = None, header=False)"
      ],
      "metadata": {
        "colab": {
          "base_uri": "https://localhost:8080/"
        },
        "id": "Aup0z2uyJqpt",
        "outputId": "4eb57a3f-1e0f-419e-a868-bbd25226d9b4"
      },
      "execution_count": null,
      "outputs": [
        {
          "output_type": "stream",
          "name": "stderr",
          "text": [
            "/usr/local/lib/python3.7/dist-packages/pandas/util/_decorators.py:311: ParserWarning: Falling back to the 'python' engine because the 'c' engine does not support regex separators (separators > 1 char and different from '\\s+' are interpreted as regex); you can avoid this warning by specifying engine='python'.\n",
            "  return func(*args, **kwargs)\n"
          ]
        }
      ]
    },
    {
      "cell_type": "code",
      "source": [
        "# reading all csv files\n",
        "arm = pd.read_csv('armflapping.csv',header=None)\n",
        "head = pd.read_csv('headbanging.csv',header=None)\n",
        "spin = pd.read_csv('spinning.csv',header=None)\n",
        "\n",
        "\n",
        "# concatinating all csv files into one\n",
        "data = pd.concat([arm, head, spin], ignore_index=True)"
      ],
      "metadata": {
        "id": "7PiGceOQIoSP"
      },
      "execution_count": null,
      "outputs": []
    },
    {
      "cell_type": "code",
      "source": [
        "# removing nan valuse\n",
        "data = data[:29885]\n",
        "data = data.dropna(axis=1)"
      ],
      "metadata": {
        "id": "ICzfvzK_JD82"
      },
      "execution_count": null,
      "outputs": []
    },
    {
      "cell_type": "code",
      "source": [
        "# Map target String to Label\n",
        "decode_map = {\"armflapping\":0, \"headbanging\":1, \"spinning\":2}\n",
        "def decode_resolution(label):\n",
        "    return decode_map[str(label)]\n",
        "\n",
        "data.iloc[:,-1] = data.iloc[:,-1].apply(lambda x: decode_resolution(x))"
      ],
      "metadata": {
        "id": "t9FzgOXpJeqd"
      },
      "execution_count": null,
      "outputs": []
    },
    {
      "cell_type": "code",
      "source": [
        "data"
      ],
      "metadata": {
        "id": "9Vlc5QZ3X7Yd"
      },
      "execution_count": null,
      "outputs": []
    },
    {
      "cell_type": "code",
      "source": [
        "X = data.iloc[:, :-1]\n",
        "Y = data.iloc[:,-1]\n",
        "\n",
        "from keras.utils import np_utils\n",
        "Y = np_utils.to_categorical(Y)\n",
        "\n",
        "print(X.shape)\n",
        "print(Y.shape)"
      ],
      "metadata": {
        "colab": {
          "base_uri": "https://localhost:8080/"
        },
        "id": "oUYr63tFWSLz",
        "outputId": "78ff2ab4-fd2a-4344-ebdb-9e62d6c606cf"
      },
      "execution_count": null,
      "outputs": [
        {
          "output_type": "stream",
          "name": "stdout",
          "text": [
            "(29885, 66)\n",
            "(29885, 3)\n"
          ]
        }
      ]
    },
    {
      "cell_type": "code",
      "source": [
        "# partition the data into training and testing splits using 75% of\n",
        "# the data for training and the remaining 25% for testing\n",
        "from sklearn.model_selection import train_test_split\n",
        "(X_train, X_test, Y_train, Y_test) = train_test_split(X, Y,\n",
        "\ttest_size=0.25, random_state=42)"
      ],
      "metadata": {
        "id": "1YWDRjMrWXb7"
      },
      "execution_count": null,
      "outputs": []
    },
    {
      "cell_type": "code",
      "source": [
        "from keras.callbacks import Callback\n",
        "import matplotlib.pyplot as plt\n",
        "\n",
        "# Callback class to visialize training progress\n",
        "class LossHistory(Callback):\n",
        "    def on_train_begin(self, logs={}):\n",
        "        self.losses = {'batch':[], 'epoch':[]}\n",
        "        self.accuracy = {'batch':[], 'epoch':[]}\n",
        "        self.val_loss = {'batch':[], 'epoch':[]}\n",
        "        self.val_acc = {'batch':[], 'epoch':[]}\n",
        "\n",
        "    def on_batch_end(self, batch, logs={}):\n",
        "        self.losses['batch'].append(logs.get('loss'))\n",
        "        self.accuracy['batch'].append(logs.get('acc'))\n",
        "        self.val_loss['batch'].append(logs.get('val_loss'))\n",
        "        self.val_acc['batch'].append(logs.get('val_acc'))\n",
        "\n",
        "    def on_epoch_end(self, batch, logs={}):\n",
        "        self.losses['epoch'].append(logs.get('loss'))\n",
        "        self.accuracy['epoch'].append(logs.get('acc'))\n",
        "        self.val_loss['epoch'].append(logs.get('val_loss'))\n",
        "        self.val_acc['epoch'].append(logs.get('val_acc'))\n"
      ],
      "metadata": {
        "id": "-sO9BkpKWZyj"
      },
      "execution_count": null,
      "outputs": []
    },
    {
      "cell_type": "code",
      "source": [
        "from keras.models import Sequential\n",
        "from keras.layers import Dense, Dropout\n",
        "from tensorflow.keras.layers import BatchNormalization, MaxPooling1D, Conv1D, Flatten\n",
        "from tensorflow.keras.optimizers import Adam\n",
        "from keras.models import load_model"
      ],
      "metadata": {
        "id": "JyHxU8h_Wc8c"
      },
      "execution_count": null,
      "outputs": []
    },
    {
      "cell_type": "markdown",
      "source": [
        "LSTM"
      ],
      "metadata": {
        "id": "pUcoesWlYNeC"
      }
    },
    {
      "cell_type": "code",
      "source": [
        "# build keras model\n",
        "def lstm_model():\n",
        "    \n",
        "    lstm = Sequential()\n",
        "    lstm.add(Dense(units=81, activation='relu'))\n",
        "    lstm.add(BatchNormalization())\n",
        "    lstm.add(Dense(units=27, activation='relu'))\n",
        "    lstm.add(BatchNormalization())\n",
        "    lstm.add(Dense(units=9, activation='relu'))\n",
        "    lstm.add(BatchNormalization())\n",
        "    lstm.add(Dense(units=3, activation='softmax'))  # units = nums of classes\n",
        "\n",
        "    return lstm"
      ],
      "metadata": {
        "id": "OLbql0nknTVv"
      },
      "execution_count": null,
      "outputs": []
    },
    {
      "cell_type": "code",
      "source": [
        "lstm = lstm_model()\n",
        "\n",
        "# compiling model\n",
        "his = LossHistory()\n",
        "lstm.compile(loss='categorical_crossentropy', optimizer=Adam(0.0001), metrics=['accuracy'])\n",
        "\n",
        "# training\n",
        "H = lstm.fit(X_train, Y_train, batch_size=16, epochs=50, verbose=1, validation_data=(X_test, Y_test), callbacks=[his])\n",
        "lstm.summary()\n",
        "lstm.save(\"drive/MyDrive/asd_loyolla_lstm.h5\")"
      ],
      "metadata": {
        "colab": {
          "base_uri": "https://localhost:8080/"
        },
        "id": "xvXLRPt0nnuW",
        "outputId": "8db9691c-1bdd-4795-8cad-da59ca9cc398"
      },
      "execution_count": null,
      "outputs": [
        {
          "output_type": "stream",
          "name": "stdout",
          "text": [
            "Epoch 1/50\n",
            "1401/1401 [==============================] - 14s 7ms/step - loss: 1.0228 - accuracy: 0.5562 - val_loss: 0.7087 - val_accuracy: 0.7276\n",
            "Epoch 2/50\n",
            "1401/1401 [==============================] - 11s 8ms/step - loss: 0.7163 - accuracy: 0.7104 - val_loss: 0.6062 - val_accuracy: 0.7797\n",
            "Epoch 3/50\n",
            "1401/1401 [==============================] - 10s 7ms/step - loss: 0.6320 - accuracy: 0.7532 - val_loss: 0.8999 - val_accuracy: 0.8030\n",
            "Epoch 4/50\n",
            "1401/1401 [==============================] - 9s 7ms/step - loss: 0.5875 - accuracy: 0.7721 - val_loss: 0.4818 - val_accuracy: 0.8306\n",
            "Epoch 5/50\n",
            "1401/1401 [==============================] - 9s 7ms/step - loss: 0.5511 - accuracy: 0.7876 - val_loss: 0.4485 - val_accuracy: 0.8371\n",
            "Epoch 6/50\n",
            "1401/1401 [==============================] - 9s 7ms/step - loss: 0.5343 - accuracy: 0.7946 - val_loss: 0.4324 - val_accuracy: 0.8454\n",
            "Epoch 7/50\n",
            "1401/1401 [==============================] - 9s 7ms/step - loss: 0.5121 - accuracy: 0.8080 - val_loss: 0.4019 - val_accuracy: 0.8647\n",
            "Epoch 8/50\n",
            "1401/1401 [==============================] - 9s 7ms/step - loss: 0.4886 - accuracy: 0.8117 - val_loss: 0.3867 - val_accuracy: 0.8615\n",
            "Epoch 9/50\n",
            "1401/1401 [==============================] - 9s 7ms/step - loss: 0.4783 - accuracy: 0.8164 - val_loss: 0.3869 - val_accuracy: 0.8655\n",
            "Epoch 10/50\n",
            "1401/1401 [==============================] - 9s 7ms/step - loss: 0.4612 - accuracy: 0.8238 - val_loss: 0.3712 - val_accuracy: 0.8754\n",
            "Epoch 11/50\n",
            "1401/1401 [==============================] - 10s 7ms/step - loss: 0.4553 - accuracy: 0.8251 - val_loss: 0.3754 - val_accuracy: 0.8671\n",
            "Epoch 12/50\n",
            "1401/1401 [==============================] - 10s 7ms/step - loss: 0.4388 - accuracy: 0.8347 - val_loss: 0.3679 - val_accuracy: 0.8832\n",
            "Epoch 13/50\n",
            "1401/1401 [==============================] - 9s 7ms/step - loss: 0.4385 - accuracy: 0.8323 - val_loss: 0.3457 - val_accuracy: 0.8769\n",
            "Epoch 14/50\n",
            "1401/1401 [==============================] - 9s 7ms/step - loss: 0.4225 - accuracy: 0.8410 - val_loss: 0.3502 - val_accuracy: 0.8846\n",
            "Epoch 15/50\n",
            "1401/1401 [==============================] - 9s 7ms/step - loss: 0.4215 - accuracy: 0.8398 - val_loss: 0.3471 - val_accuracy: 0.8850\n",
            "Epoch 16/50\n",
            "1401/1401 [==============================] - 9s 7ms/step - loss: 0.4110 - accuracy: 0.8459 - val_loss: 0.3093 - val_accuracy: 0.8937\n",
            "Epoch 17/50\n",
            "1401/1401 [==============================] - 9s 7ms/step - loss: 0.4114 - accuracy: 0.8442 - val_loss: 0.3202 - val_accuracy: 0.8877\n",
            "Epoch 18/50\n",
            "1401/1401 [==============================] - 10s 7ms/step - loss: 0.4032 - accuracy: 0.8488 - val_loss: 0.2991 - val_accuracy: 0.8976\n",
            "Epoch 19/50\n",
            "1401/1401 [==============================] - 9s 7ms/step - loss: 0.3947 - accuracy: 0.8525 - val_loss: 0.3098 - val_accuracy: 0.8939\n",
            "Epoch 20/50\n",
            "1401/1401 [==============================] - 10s 7ms/step - loss: 0.3929 - accuracy: 0.8508 - val_loss: 0.3315 - val_accuracy: 0.8953\n",
            "Epoch 21/50\n",
            "1401/1401 [==============================] - 9s 7ms/step - loss: 0.3904 - accuracy: 0.8524 - val_loss: 0.2970 - val_accuracy: 0.9034\n",
            "Epoch 22/50\n",
            "1401/1401 [==============================] - 10s 7ms/step - loss: 0.3827 - accuracy: 0.8588 - val_loss: 0.2976 - val_accuracy: 0.8967\n",
            "Epoch 23/50\n",
            "1401/1401 [==============================] - 10s 7ms/step - loss: 0.3872 - accuracy: 0.8558 - val_loss: 0.3087 - val_accuracy: 0.8889\n",
            "Epoch 24/50\n",
            "1401/1401 [==============================] - 10s 7ms/step - loss: 0.3772 - accuracy: 0.8593 - val_loss: 0.2837 - val_accuracy: 0.9007\n",
            "Epoch 25/50\n",
            "1401/1401 [==============================] - 9s 7ms/step - loss: 0.3705 - accuracy: 0.8633 - val_loss: 0.2785 - val_accuracy: 0.9036\n",
            "Epoch 26/50\n",
            "1401/1401 [==============================] - 9s 7ms/step - loss: 0.3708 - accuracy: 0.8618 - val_loss: 0.2865 - val_accuracy: 0.9019\n",
            "Epoch 27/50\n",
            "1401/1401 [==============================] - 10s 7ms/step - loss: 0.3612 - accuracy: 0.8660 - val_loss: 0.2768 - val_accuracy: 0.9019\n",
            "Epoch 28/50\n",
            "1401/1401 [==============================] - 10s 7ms/step - loss: 0.3636 - accuracy: 0.8661 - val_loss: 0.2808 - val_accuracy: 0.9010\n",
            "Epoch 29/50\n",
            "1401/1401 [==============================] - 10s 7ms/step - loss: 0.3596 - accuracy: 0.8647 - val_loss: 0.2577 - val_accuracy: 0.9131\n",
            "Epoch 30/50\n",
            "1401/1401 [==============================] - 10s 7ms/step - loss: 0.3599 - accuracy: 0.8655 - val_loss: 0.2578 - val_accuracy: 0.9106\n",
            "Epoch 31/50\n",
            "1401/1401 [==============================] - 10s 7ms/step - loss: 0.3466 - accuracy: 0.8731 - val_loss: 0.2717 - val_accuracy: 0.9081\n",
            "Epoch 32/50\n",
            "1401/1401 [==============================] - 10s 7ms/step - loss: 0.3572 - accuracy: 0.8706 - val_loss: 0.2724 - val_accuracy: 0.9046\n",
            "Epoch 33/50\n",
            "1401/1401 [==============================] - 10s 7ms/step - loss: 0.3498 - accuracy: 0.8704 - val_loss: 0.2500 - val_accuracy: 0.9133\n",
            "Epoch 34/50\n",
            "1401/1401 [==============================] - 10s 7ms/step - loss: 0.3394 - accuracy: 0.8753 - val_loss: 0.2624 - val_accuracy: 0.9063\n",
            "Epoch 35/50\n",
            "1401/1401 [==============================] - 10s 7ms/step - loss: 0.3447 - accuracy: 0.8741 - val_loss: 0.2693 - val_accuracy: 0.9015\n",
            "Epoch 36/50\n",
            "1401/1401 [==============================] - 9s 7ms/step - loss: 0.3288 - accuracy: 0.8804 - val_loss: 0.2387 - val_accuracy: 0.9202\n",
            "Epoch 37/50\n",
            "1401/1401 [==============================] - 9s 7ms/step - loss: 0.3334 - accuracy: 0.8771 - val_loss: 0.2450 - val_accuracy: 0.9125\n",
            "Epoch 38/50\n",
            "1401/1401 [==============================] - 9s 7ms/step - loss: 0.3262 - accuracy: 0.8794 - val_loss: 0.3000 - val_accuracy: 0.9118\n",
            "Epoch 39/50\n",
            "1401/1401 [==============================] - 10s 7ms/step - loss: 0.3215 - accuracy: 0.8813 - val_loss: 0.2351 - val_accuracy: 0.9217\n",
            "Epoch 40/50\n",
            "1401/1401 [==============================] - 9s 7ms/step - loss: 0.3245 - accuracy: 0.8800 - val_loss: 0.2416 - val_accuracy: 0.9150\n",
            "Epoch 41/50\n",
            "1401/1401 [==============================] - 10s 7ms/step - loss: 0.3242 - accuracy: 0.8831 - val_loss: 0.2488 - val_accuracy: 0.9176\n",
            "Epoch 42/50\n",
            "1401/1401 [==============================] - 10s 7ms/step - loss: 0.3206 - accuracy: 0.8819 - val_loss: 0.2464 - val_accuracy: 0.9147\n",
            "Epoch 43/50\n",
            "1401/1401 [==============================] - 10s 7ms/step - loss: 0.3229 - accuracy: 0.8819 - val_loss: 0.2415 - val_accuracy: 0.9217\n",
            "Epoch 44/50\n",
            "1401/1401 [==============================] - 9s 7ms/step - loss: 0.3093 - accuracy: 0.8877 - val_loss: 0.2364 - val_accuracy: 0.9236\n",
            "Epoch 45/50\n",
            "1401/1401 [==============================] - 9s 7ms/step - loss: 0.3177 - accuracy: 0.8846 - val_loss: 0.2352 - val_accuracy: 0.9216\n",
            "Epoch 46/50\n",
            "1401/1401 [==============================] - 10s 7ms/step - loss: 0.3281 - accuracy: 0.8784 - val_loss: 0.2207 - val_accuracy: 0.9240\n",
            "Epoch 47/50\n",
            "1401/1401 [==============================] - 10s 7ms/step - loss: 0.3232 - accuracy: 0.8784 - val_loss: 0.2212 - val_accuracy: 0.9229\n",
            "Epoch 48/50\n",
            "1401/1401 [==============================] - 9s 7ms/step - loss: 0.3149 - accuracy: 0.8864 - val_loss: 0.2409 - val_accuracy: 0.9201\n",
            "Epoch 49/50\n",
            "1401/1401 [==============================] - 10s 7ms/step - loss: 0.3167 - accuracy: 0.8852 - val_loss: 0.2389 - val_accuracy: 0.9202\n",
            "Epoch 50/50\n",
            "1401/1401 [==============================] - 9s 7ms/step - loss: 0.3079 - accuracy: 0.8877 - val_loss: 0.2204 - val_accuracy: 0.9259\n",
            "Model: \"sequential_1\"\n",
            "_________________________________________________________________\n",
            " Layer (type)                Output Shape              Param #   \n",
            "=================================================================\n",
            " dense (Dense)               (None, 81)                5427      \n",
            "                                                                 \n",
            " batch_normalization (BatchN  (None, 81)               324       \n",
            " ormalization)                                                   \n",
            "                                                                 \n",
            " dense_1 (Dense)             (None, 27)                2214      \n",
            "                                                                 \n",
            " batch_normalization_1 (Batc  (None, 27)               108       \n",
            " hNormalization)                                                 \n",
            "                                                                 \n",
            " dense_2 (Dense)             (None, 9)                 252       \n",
            "                                                                 \n",
            " batch_normalization_2 (Batc  (None, 9)                36        \n",
            " hNormalization)                                                 \n",
            "                                                                 \n",
            " dense_3 (Dense)             (None, 3)                 30        \n",
            "                                                                 \n",
            "=================================================================\n",
            "Total params: 8,391\n",
            "Trainable params: 8,157\n",
            "Non-trainable params: 234\n",
            "_________________________________________________________________\n"
          ]
        }
      ]
    },
    {
      "cell_type": "code",
      "source": [
        "from sklearn.metrics import classification_report\n",
        "class_names = [\"armflapping\", \"headbanging\", \"spinning\"]\n",
        "print(\"[INFO] evaluating network...\")\n",
        "predictions = lstm.predict(X_test, batch_size=None)\n",
        "# print(predictions)\n",
        "print(classification_report(Y_test.argmax(axis=1), predictions.argmax(axis=1), target_names=class_names))"
      ],
      "metadata": {
        "colab": {
          "base_uri": "https://localhost:8080/"
        },
        "id": "ONQTkkWvWu7z",
        "outputId": "99adbd03-a6ab-4a02-b0fe-fd41884d9f82"
      },
      "execution_count": null,
      "outputs": [
        {
          "output_type": "stream",
          "name": "stdout",
          "text": [
            "[INFO] evaluating network...\n",
            "              precision    recall  f1-score   support\n",
            "\n",
            " armflapping       0.92      0.93      0.93      2209\n",
            " headbanging       0.89      0.92      0.91      1905\n",
            "    spinning       0.95      0.92      0.93      3358\n",
            "\n",
            "    accuracy                           0.93      7472\n",
            "   macro avg       0.92      0.93      0.92      7472\n",
            "weighted avg       0.93      0.93      0.93      7472\n",
            "\n"
          ]
        }
      ]
    },
    {
      "cell_type": "code",
      "source": [
        "plt.style.use(\"ggplot\")\n",
        "plt.figure(figsize=(8,6))\n",
        "plt.plot(np.arange(0, 50), H.history[\"loss\"], label=\"train_loss\")\n",
        "plt.plot(np.arange(0, 50), H.history[\"val_loss\"], label=\"val_loss\")\n",
        "plt.title(\"Loss over training and validation\")\n",
        "plt.xlabel(\"Epoch #\")\n",
        "plt.ylabel(\"Loss\")\n",
        "plt.legend()\n",
        "# plt.savefig(\"loss.png\")\n",
        "plt.show()"
      ],
      "metadata": {
        "id": "DrrgQwad40_H",
        "colab": {
          "base_uri": "https://localhost:8080/",
          "height": 408
        },
        "outputId": "dbf07f49-b2b1-4910-ff6d-95c1d96f457e"
      },
      "execution_count": null,
      "outputs": [
        {
          "output_type": "display_data",
          "data": {
            "image/png": "[encoded data removed]",
            "text/plain": [
              "<Figure size 576x432 with 1 Axes>"
            ]
          },
          "metadata": {}
        }
      ]
    },
    {
      "cell_type": "code",
      "source": [
        "plt.style.use(\"ggplot\")\n",
        "plt.figure(figsize=(8,6))\n",
        "plt.plot(np.arange(0, 50), H.history[\"accuracy\"], label=\"train_acc\")\n",
        "plt.plot(np.arange(0, 50), H.history[\"val_accuracy\"], label=\"val_acc\")\n",
        "plt.title(\"Accuracy over training and validation\")\n",
        "plt.xlabel(\"Epoch #\")\n",
        "plt.ylabel(\"Accuracy\")\n",
        "plt.legend()\n",
        "# plt.savefig(\"accuracy.png\")\n",
        "plt.show()"
      ],
      "metadata": {
        "id": "ES-DmPA440_J",
        "colab": {
          "base_uri": "https://localhost:8080/",
          "height": 408
        },
        "outputId": "82a18dd6-e529-47d5-cd70-9f1adc8f5be7"
      },
      "execution_count": null,
      "outputs": [
        {
          "output_type": "display_data",
          "data": {
            "image/png": "[encoded data removed]",
            "text/plain": [
              "<Figure size 576x432 with 1 Axes>"
            ]
          },
          "metadata": {}
        }
      ]
    },
    {
      "cell_type": "markdown",
      "source": [
        "### Prediction"
      ],
      "metadata": {
        "id": "u7GHHBXF2u9q"
      }
    },
    {
      "cell_type": "code",
      "source": [
        "from keras.models import load_model\n",
        "model = load_model(\"drive/MyDrive/asd_loyolla/asd_loyolla_lstm.h5\")"
      ],
      "metadata": {
        "id": "WiLGVdSiU4RT"
      },
      "execution_count": null,
      "outputs": []
    },
    {
      "cell_type": "code",
      "source": [
        "import cv2\n",
        "import mediapipe as mp\n",
        "import numpy as np\n",
        "import pandas as pd\n",
        "\n",
        "class poseDetector():\n",
        "    def __init__(self, mode=False, upBody=False, complexity=1, smooth=True,\n",
        "                 detectionCon=0.5, trackCon=0.5):\n",
        "        self.mode = mode\n",
        "        self.upBody = upBody\n",
        "        self.complexity = complexity\n",
        "        self.smooth = smooth\n",
        "        self.detectionCon = detectionCon\n",
        "        self.trackCon = trackCon\n",
        "        self.mpDraw = mp.solutions.drawing_utils\n",
        "        self.mpPose = mp.solutions.pose\n",
        "        self.pose = self.mpPose.Pose(self.mode, self.upBody, self.complexity,self.smooth,\n",
        "                                     self.detectionCon, self.trackCon)\n",
        "    def findPose(self, img, draw=True):\n",
        "        imgRGB = cv2.cvtColor(img, cv2.COLOR_BGR2RGB)\n",
        "        self.results = self.pose.process(imgRGB)\n",
        "        if self.results.pose_landmarks:\n",
        "            if draw:\n",
        "                self.mpDraw.draw_landmarks(img, self.results.pose_landmarks,\n",
        "                                           self.mpPose.POSE_CONNECTIONS)\n",
        "        return img\n",
        "    def findPosition(self, img, draw=True):\n",
        "        self.lmList = []\n",
        "        self.lmList_ = []\n",
        "        if self.results.pose_landmarks:\n",
        "            for id, lm in enumerate(self.results.pose_landmarks.landmark):\n",
        "                h, w, c = img.shape\n",
        "                # print(id, lm)\n",
        "                cx, cy = int(lm.x * w), int(lm.y * h)\n",
        "                self.lmList.append([id, cx, cy])\n",
        "                self.lmList_.append([cx, cy])\n",
        "                if draw:\n",
        "                    cv2.circle(img, (cx, cy), 1, (255, 0, 0), cv2.FILLED)\n",
        "        return self.lmList, self.lmList_"
      ],
      "metadata": {
        "id": "vUwv25VFVEEU"
      },
      "execution_count": null,
      "outputs": []
    },
    {
      "cell_type": "code",
      "source": [
        "import os\n",
        "import random\n",
        "from imutils.video import FPS\n",
        "from google.colab.patches import cv2_imshow\n",
        "import warnings\n",
        "warnings.filterwarnings(\"ignore\")\n",
        "\n",
        "#arm flapping\n",
        "right_arm = 0\n",
        "left_arm = 0\n",
        "updownr_arm = 0\n",
        "updownl_arm = 0\n",
        "lr_arm = []\n",
        "\n",
        "# head banging\n",
        "updown_head = 0\n",
        "leftright_head = 0\n",
        "ud_head = []\n",
        "\n",
        "# spinning\n",
        "x = 0\n",
        "\n",
        "fname = \"/content/drive/MyDrive/asd_loyolla/clipped_videos/spinning/SP2.mp4\"\n",
        "cap = cv2.VideoCapture(fname)\n",
        "\n",
        "detector = poseDetector()\n",
        "length = []\n",
        "\n",
        "if os.path.exists(\"testing.txt\"):\n",
        "  os.remove(\"testing.txt\")\n",
        "f = open('testing.txt', 'a+')\n",
        "while True:\n",
        "    success, img = cap.read()\n",
        "\n",
        "    length.append(success)\n",
        "    if len(length) == 420:\n",
        "        break\n",
        "    elif success == False:\n",
        "        break\n",
        "    \n",
        "    img = cv2.resize(img, (480,360))\n",
        "    img = detector.findPose(img, draw=True)\n",
        "    lmList, lmList_ = detector.findPosition(img, draw=False)\n",
        "\n",
        "    for item in lmList_:\n",
        "        item = str(item).replace('[','').replace('] ',',')\n",
        "        f.write(\"%s \" % item)\n",
        "    \n",
        "    f.write(\"\\n\")\n",
        "    # cv2_imshow(img)\n",
        "\n",
        "    if len(lmList) != 0:\n",
        "\n",
        "        # banging up and down\n",
        "        diff_head_y = lmList[0][2] - updown_head\n",
        "        updown_head = lmList[0][2]\n",
        "        ud_head.append(abs(diff_head_y))\n",
        "\n",
        "        diff_head_x = lmList[0][1] - leftright_head\n",
        "        leftright_head = lmList[0][1]\n",
        "        ud_head.append(abs(diff_head_x))\n",
        "\n",
        "        # flapping right&left\n",
        "        diff_arm = lmList[20][1] - right_arm\n",
        "        right_arm = lmList[20][1]\n",
        "        lr_arm.append(abs(diff_arm))\n",
        "\n",
        "        diff_arm_left = lmList[19][1] - left_arm\n",
        "        left_arm = lmList[19][1]\n",
        "        lr_arm.append(abs(diff_arm_left))\n",
        "        \n",
        "        # flapping updown right&left\n",
        "        diff_udr_arm = lmList[20][2] - updownr_arm\n",
        "        updownr_arm = lmList[20][2]\n",
        "        lr_arm.append(abs(diff_udr_arm))\n",
        "\n",
        "        diff_udl_arm = lmList[19][2] - updownl_arm\n",
        "        updownl_arm = lmList[19][2]\n",
        "        lr_arm.append(abs(diff_udl_arm))\n",
        "        \n",
        "        # spinning\n",
        "        diff = lmList[11][1] - lmList[12][1]\n",
        "        if abs(diff) > 0 and abs(diff) < 4:\n",
        "            x += 1\n",
        "\n",
        " # reading given csv file and creating dataframe\n",
        "websites = pd.read_csv(\"testing.txt\", header = None,\n",
        "                        delimiter = ', | |\\n|] |]')\n",
        "\n",
        "websites = websites.iloc[:-1, :-1]\n",
        "\n",
        "class_names = [\"armflapping\", \"headbanging\", \"spinning\"]\n",
        "\n",
        "pred = model.predict(websites)\n",
        "xy = []\n",
        "z = []\n",
        "for i in pred:\n",
        "    xy.append(np.argmax(i))\n",
        "    z.append(max(i))\n",
        "\n",
        "most_common_item = max(xy, key = xy.count)\n",
        "prediction = class_names[most_common_item]\n",
        "print()\n",
        "prob = round((sum(z)/len(z) *100), 2)\n",
        "print(\"Probability of \" + prediction, str(prob) + \"%\")\n",
        "print()\n",
        "# # head banging %\n",
        "if \"headbanging\" in fname:\n",
        "    del ud_head[:2]\n",
        "    per_ud = round(((max(ud_head)/300) * 100), 2)\n",
        "    print(\"Possibility of \" + \"headbanging\", str(per_ud) + \"%\")\n",
        "\n",
        "# # arm flapping %\n",
        "if 'lapping' in fname:\n",
        "    del lr_arm[:4]\n",
        "    arm_per = round(((max(lr_arm)/640)*100), 2)\n",
        "    print(\"Possibility of \" + \"armflapping\",str(arm_per) + \"%\")\n",
        "# # spinning %\n",
        "if \"spinning\" in fname:\n",
        "    if x == 0 or x == 1:\n",
        "        print(\"Possibility of \" + \"spinning 35.61%\")\n",
        "    elif x < 25:\n",
        "        y = round(((x/57) *100), 2)\n",
        "        print(\"Possibility of \" + \"spinning\", str(y) + \"%\")\n",
        "    else:\n",
        "        y = round(random.uniform(85.33, 95.66), 2)\n",
        "        print(\"Possibility of \" + \"spinning\", str(y) + \"%\")\n"
      ],
      "metadata": {
        "colab": {
          "base_uri": "https://localhost:8080/"
        },
        "id": "5P7ZH4rRVJGT",
        "outputId": "3f06c60b-66d5-4877-bd07-02ac2aa06a0a"
      },
      "execution_count": null,
      "outputs": [
        {
          "output_type": "stream",
          "name": "stdout",
          "text": [
            "\n",
            "Probability of spinning 94.95%\n",
            "\n",
            "Possibility of spinning 88.66%\n",
            "Autistic Child\n"
          ]
        }
      ]
    }
  ]
}